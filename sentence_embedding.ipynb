{
 "cells": [
  {
   "cell_type": "code",
   "execution_count": 1,
   "metadata": {},
   "outputs": [],
   "source": [
    "import random\n",
    "import torch\n",
    "from transformers import BertTokenizer, BertModel\n",
    "from sklearn.metrics.pairwise import cosine_similarity"
   ]
  },
  {
   "cell_type": "code",
   "execution_count": 5,
   "metadata": {},
   "outputs": [],
   "source": [
    "random_seed = 69\n",
    "random.seed(random_seed)\n",
    "\n",
    "torch.manual_seed(random_seed)\n",
    "if torch.cuda.is_available():\n",
    "    torch.cuda.manual_seed_all(random_seed)"
   ]
  },
  {
   "cell_type": "code",
   "execution_count": 6,
   "metadata": {},
   "outputs": [],
   "source": [
    "tokenizer = BertTokenizer.from_pretrained('bert-base-uncased')\n",
    "model = BertModel.from_pretrained('bert-base-uncased')"
   ]
  },
  {
   "cell_type": "code",
   "execution_count": 21,
   "metadata": {},
   "outputs": [
    {
     "name": "stdout",
     "output_type": "stream",
     "text": [
      "tensor([[1, 1, 1],\n",
      "        [1, 1, 1],\n",
      "        [1, 1, 1],\n",
      "        [1, 1, 1],\n",
      "        [1, 1, 1],\n",
      "        [1, 1, 1],\n",
      "        [1, 1, 0],\n",
      "        [1, 1, 1],\n",
      "        [1, 1, 1],\n",
      "        [1, 1, 1],\n",
      "        [1, 1, 0],\n",
      "        [1, 1, 1],\n",
      "        [1, 1, 1],\n",
      "        [1, 1, 0],\n",
      "        [1, 1, 1],\n",
      "        [1, 1, 1],\n",
      "        [1, 1, 1],\n",
      "        [1, 1, 1],\n",
      "        [1, 1, 1],\n",
      "        [1, 1, 0],\n",
      "        [1, 1, 1],\n",
      "        [1, 1, 1],\n",
      "        [1, 1, 1],\n",
      "        [1, 1, 0],\n",
      "        [1, 1, 1],\n",
      "        [1, 1, 1],\n",
      "        [1, 1, 1],\n",
      "        [1, 1, 1],\n",
      "        [1, 1, 1],\n",
      "        [1, 1, 1],\n",
      "        [1, 1, 1]])\n"
     ]
    }
   ],
   "source": [
    "text = 'rakesh raj is doing nlp tonight'\n",
    "\n",
    "encoding = tokenizer.batch_encode_plus(\n",
    "    text,\n",
    "    padding = True,\n",
    "    truncation = True,\n",
    "    return_tensors = 'pt',\n",
    "    add_special_tokens = True,\n",
    ")\n",
    "\n",
    "input_ids = encoding['input_ids']\n",
    "# print(input_ids)\n",
    "attention_mask = encoding['attention_mask']\n",
    "print(attention_mask)"
   ]
  },
  {
   "cell_type": "code",
   "execution_count": 26,
   "metadata": {},
   "outputs": [
    {
     "name": "stdout",
     "output_type": "stream",
     "text": [
      "tensor([[-0.4422, -0.0526, -0.0091,  ...,  0.0963,  0.1625,  0.3031],\n",
      "        [-0.4922, -0.6787,  0.0211,  ...,  0.2248,  0.6457, -0.2831],\n",
      "        [ 1.0238,  0.0883, -0.3741,  ...,  0.3148, -0.8268, -0.2171]])\n"
     ]
    }
   ],
   "source": [
    "with torch.no_grad():\n",
    "    outputs = model(input_ids, attention_mask=attention_mask)\n",
    "    word_embeddings = outputs.last_hidden_state\n",
    "\n",
    "\n",
    "print(word_embeddings)"
   ]
  },
  {
   "cell_type": "code",
   "execution_count": 15,
   "metadata": {},
   "outputs": [
    {
     "data": {
      "text/plain": [
       "transformers.tokenization_utils_base.BatchEncoding"
      ]
     },
     "execution_count": 15,
     "metadata": {},
     "output_type": "execute_result"
    }
   ],
   "source": [
    "type(encoding)"
   ]
  },
  {
   "cell_type": "code",
   "execution_count": 28,
   "metadata": {},
   "outputs": [],
   "source": [
    "#Sentence Transformers\n",
    "\n",
    "from sentence_transformers import SentenceTransformer\n",
    "\n",
    "model = SentenceTransformer(\"all-MiniLM-L6-v2\")"
   ]
  },
  {
   "cell_type": "code",
   "execution_count": 31,
   "metadata": {},
   "outputs": [],
   "source": [
    "sentences = [\n",
    "    \"This framework generates embeddings for each input sentence\",\n",
    "]\n",
    "sentence_embeddings = model.encode(sentences)"
   ]
  },
  {
   "cell_type": "code",
   "execution_count": 32,
   "metadata": {},
   "outputs": [
    {
     "name": "stdout",
     "output_type": "stream",
     "text": [
      "Sentence: This framework generates embeddings for each input sentence\n",
      "Embedding: [-1.37173543e-02 -4.28515673e-02 -1.56286340e-02  1.40537675e-02\n",
      "  3.95537801e-02  1.21796280e-01  2.94333380e-02 -3.17523777e-02\n",
      "  3.54959704e-02 -7.93140084e-02  1.75878275e-02 -4.04369757e-02\n",
      "  4.97259796e-02  2.54912637e-02 -7.18699545e-02  8.14968348e-02\n",
      "  1.47070771e-03  4.79627289e-02 -4.50335816e-02 -9.92174894e-02\n",
      " -2.81769391e-02  6.45046085e-02  4.44670655e-02 -4.76217270e-02\n",
      " -3.52952443e-02  4.38671634e-02 -5.28565980e-02  4.33038571e-04\n",
      "  1.01921484e-01  1.64072551e-02  3.26996669e-02 -3.45986895e-02\n",
      "  1.21339504e-02  7.94871226e-02  4.58341185e-03  1.57778524e-02\n",
      " -9.68208257e-03  2.87626274e-02 -5.05806543e-02 -1.55793773e-02\n",
      " -2.87907124e-02 -9.62279830e-03  3.15556526e-02  2.27349252e-02\n",
      "  8.71449485e-02 -3.85027342e-02 -8.84718746e-02 -8.75496026e-03\n",
      " -2.12343317e-02  2.08924077e-02 -9.02078077e-02 -5.25732674e-02\n",
      " -1.05638439e-02  2.88311224e-02 -1.61454864e-02  6.17841911e-03\n",
      " -1.23234615e-02 -1.07336910e-02  2.83353608e-02 -5.28567582e-02\n",
      " -3.58617902e-02 -5.97989410e-02 -1.09055303e-02  2.91566495e-02\n",
      "  7.97979236e-02 -3.27877206e-04  6.83496986e-03  1.32718440e-02\n",
      " -4.24619913e-02  1.87656432e-02 -9.89234895e-02  2.09049862e-02\n",
      " -8.69605616e-02 -1.50151821e-02 -4.86201979e-02  8.04414749e-02\n",
      " -3.67700192e-03 -6.65044188e-02  1.14556760e-01 -3.04228868e-02\n",
      "  2.96631716e-02 -2.80694943e-02  4.64990586e-02 -2.25513782e-02\n",
      "  8.54222700e-02  3.15446630e-02  7.34542236e-02 -2.21861824e-02\n",
      " -5.29679097e-02  1.27130309e-02 -5.27339801e-02 -1.06188744e-01\n",
      "  7.04731718e-02  2.76736375e-02 -8.05531368e-02  2.39649490e-02\n",
      " -2.65125167e-02 -2.17331015e-02  4.35275435e-02  4.84711975e-02\n",
      " -2.37066839e-02  2.85768397e-02  1.11846097e-01 -6.34936169e-02\n",
      " -1.58318467e-02 -2.26169489e-02 -1.31028136e-02 -1.62069581e-03\n",
      " -3.60928923e-02 -9.78296995e-02 -4.67729494e-02  1.76272057e-02\n",
      " -3.97492126e-02 -1.76434740e-04  3.39627862e-02 -2.09633932e-02\n",
      "  6.33660844e-03 -2.59411559e-02  8.10410604e-02  6.14393242e-02\n",
      " -5.44596929e-03  6.48275912e-02 -1.16844028e-01  2.36860998e-02\n",
      " -1.32058533e-02 -1.12476423e-01  1.90049354e-02 -1.74659118e-34\n",
      "  5.58949709e-02  1.94244385e-02  4.65438627e-02  5.18645830e-02\n",
      "  3.89390513e-02  3.40540707e-02 -4.32114229e-02  7.90637285e-02\n",
      " -9.79530066e-02 -1.27441268e-02 -2.91870870e-02  1.02052484e-02\n",
      "  1.88115966e-02  1.08942531e-01  6.63465112e-02 -5.35295233e-02\n",
      " -3.29228863e-02  4.69827019e-02  2.28883084e-02  2.74114646e-02\n",
      " -2.91983411e-02  3.12706493e-02 -2.22850703e-02 -1.02282181e-01\n",
      " -2.79116128e-02  1.13793248e-02  9.06309038e-02 -4.75414507e-02\n",
      " -1.00718915e-01 -1.23232016e-02 -7.96928480e-02 -1.44636594e-02\n",
      " -7.76400939e-02 -7.66918389e-03  9.73956008e-03  2.24205125e-02\n",
      "  7.77267739e-02 -3.17156804e-03  2.11538337e-02 -3.30394134e-02\n",
      "  9.55246575e-03 -3.73012014e-02  2.61360444e-02 -9.79085267e-03\n",
      " -6.31505251e-02  5.77433733e-03 -3.80031243e-02  1.29683968e-02\n",
      " -1.82499141e-02 -1.56283025e-02 -1.23358215e-03  5.55579141e-02\n",
      "  1.13117734e-04 -5.61256632e-02  7.40165785e-02  1.84451863e-02\n",
      " -2.66368333e-02  1.31951654e-02  7.50086904e-02 -2.46797316e-02\n",
      " -3.24006155e-02 -1.57675035e-02 -8.03515315e-03 -5.61319524e-03\n",
      "  1.05687911e-02  3.26169468e-03 -3.91989872e-02 -9.38677117e-02\n",
      "  1.14227146e-01  6.57304749e-02 -4.72633354e-02  1.45087857e-02\n",
      " -3.54490392e-02 -3.37761454e-02 -5.15506007e-02 -3.80998966e-03\n",
      " -5.15036359e-02 -5.93429171e-02 -1.69412210e-03  7.42107630e-02\n",
      " -4.20090966e-02 -7.19975531e-02  3.17249931e-02 -1.66303553e-02\n",
      "  3.96982394e-03 -6.52750731e-02  2.77391281e-02 -7.51649588e-02\n",
      "  2.27455981e-02 -3.91368642e-02  1.54316211e-02 -5.54908775e-02\n",
      "  1.23318490e-02 -2.59520505e-02  6.66423440e-02 -6.91259004e-34\n",
      "  3.31628844e-02  8.47929046e-02 -6.65584356e-02  3.33541632e-02\n",
      "  4.71607456e-03  1.35361617e-02 -5.38694188e-02  9.20693949e-02\n",
      " -2.96876673e-02  3.16219553e-02 -2.37497408e-02  1.98771060e-02\n",
      "  1.03446171e-01 -9.06947181e-02  6.30627386e-03  1.42886350e-02\n",
      "  1.19293500e-02  6.43728068e-03  4.20104526e-02  1.25344591e-02\n",
      "  3.93019356e-02  5.35691455e-02 -4.30749841e-02  6.10432476e-02\n",
      " -5.39503781e-05  6.91682622e-02  1.05520347e-02  1.22111598e-02\n",
      " -7.23185167e-02  2.50469316e-02 -5.18370867e-02 -4.36562337e-02\n",
      " -6.71818629e-02  1.34827821e-02 -7.25888684e-02  7.04162614e-03\n",
      "  6.58939332e-02  1.08994022e-02 -2.60009733e-03  5.49968891e-02\n",
      "  5.06966822e-02  3.27948257e-02 -6.68833405e-02  6.45557344e-02\n",
      " -2.52076164e-02 -2.92572007e-02 -1.16696715e-01  3.24064419e-02\n",
      "  5.85858561e-02 -3.51756513e-02 -7.15239793e-02  2.24935897e-02\n",
      " -1.00786686e-01 -4.74545099e-02 -7.61962831e-02 -5.87166809e-02\n",
      "  4.21138555e-02 -7.47213587e-02  1.98467895e-02 -3.36503773e-03\n",
      " -5.29736541e-02  2.74729319e-02  3.45736556e-02 -6.11847006e-02\n",
      "  1.06364772e-01 -9.64120030e-02 -4.55945283e-02  1.51489628e-02\n",
      " -5.13531361e-03 -6.64447621e-02  4.31721471e-02 -1.10405749e-02\n",
      " -9.80250631e-03  7.53783062e-02 -1.49570936e-02 -4.80208583e-02\n",
      "  5.80726489e-02 -2.43896674e-02 -2.23137904e-02 -4.36992459e-02\n",
      "  5.12054488e-02 -3.28625664e-02  1.08763300e-01  6.08926490e-02\n",
      "  3.30792041e-03  5.53820059e-02  8.43200758e-02  1.27087533e-02\n",
      "  3.84465419e-02  6.52325600e-02 -2.94683874e-02  5.08005582e-02\n",
      " -2.09348109e-02  1.46135643e-01  2.25561671e-02 -1.77227744e-08\n",
      " -5.02672568e-02 -2.79190805e-04 -1.00328557e-01  2.42811218e-02\n",
      " -7.54043609e-02 -3.79139669e-02  3.96049954e-02  3.10079753e-02\n",
      " -9.05701891e-03 -6.50411844e-02  4.05453295e-02  4.83390205e-02\n",
      " -4.56962138e-02  4.76003904e-03  2.64361920e-03  9.35614407e-02\n",
      " -4.02598865e-02  3.27402055e-02  1.18298484e-02  5.54344878e-02\n",
      "  1.48052201e-01  7.21189454e-02  2.76959385e-04  1.68651491e-02\n",
      "  8.34881607e-03 -8.76153447e-03 -1.33649791e-02  6.14236966e-02\n",
      "  1.57167893e-02  6.94960728e-02  1.08621726e-02  6.08018562e-02\n",
      " -5.33421524e-02 -3.47924344e-02 -3.36271785e-02  6.93907067e-02\n",
      "  1.22987498e-02 -1.45237371e-01 -2.06972449e-03 -4.61133048e-02\n",
      "  3.72748496e-03 -5.59354620e-03 -1.00659855e-01 -4.45952900e-02\n",
      "  5.40921204e-02  4.98893950e-03  1.49534903e-02 -8.26059803e-02\n",
      "  6.26630783e-02 -5.01911854e-03 -4.81857546e-02 -3.53991240e-02\n",
      "  9.03389417e-03 -2.42337771e-02  5.66267297e-02  2.51529012e-02\n",
      " -1.70709286e-02 -1.24779968e-02  3.19518223e-02  1.38421273e-02\n",
      " -1.55814923e-02  1.00178294e-01  1.23657249e-01 -4.22966965e-02]\n",
      "\n"
     ]
    }
   ],
   "source": [
    "for sentence, embedding in zip(sentences, sentence_embeddings):\n",
    "    print(\"Sentence:\", sentence)\n",
    "    print(\"Embedding:\", embedding)\n",
    "    print(\"\")"
   ]
  },
  {
   "cell_type": "markdown",
   "metadata": {},
   "source": [
    "Working Implementation Below This Cell"
   ]
  },
  {
   "cell_type": "code",
   "execution_count": 48,
   "metadata": {},
   "outputs": [
    {
     "name": "stderr",
     "output_type": "stream",
     "text": [
      "[nltk_data] Downloading package punkt to /home/mohitavva/nltk_data...\n",
      "[nltk_data]   Package punkt is already up-to-date!\n"
     ]
    }
   ],
   "source": [
    "import nltk\n",
    "from sentence_transformers import SentenceTransformer\n",
    "from scipy.spatial.distance import cosine\n",
    "\n",
    "nltk.download('punkt')\n",
    "sent_embedding_model = \"all-MiniLM-L6-v2\"\n",
    "device_used = \"cuda\""
   ]
  },
  {
   "cell_type": "code",
   "execution_count": 49,
   "metadata": {},
   "outputs": [],
   "source": [
    "def split_sentence(paragraph):\n",
    "    sentences = nltk.sent_tokenize(paragraph)\n",
    "    return sentences\n",
    "\n",
    "def sent_embedding(paragraph):\n",
    "    sentences = split_sentence(paragraph)\n",
    "    if torch.cuda.is_available():\n",
    "        model = SentenceTransformer(sent_embedding_model, device=device_used)\n",
    "    else:\n",
    "        model = SentenceTransformer(sent_embedding_model)\n",
    "    sentence_embeddings = model.encode(sentences)\n",
    "    return sentence_embeddings"
   ]
  },
  {
   "cell_type": "code",
   "execution_count": 66,
   "metadata": {},
   "outputs": [],
   "source": [
    "embeddings = sent_embedding(\"Hello how are you? The car looks good. Hi there, are you good?\")"
   ]
  },
  {
   "cell_type": "code",
   "execution_count": 67,
   "metadata": {},
   "outputs": [
    {
     "name": "stdout",
     "output_type": "stream",
     "text": [
      "0.6687135297826821\n"
     ]
    }
   ],
   "source": [
    "similarity = 1 - cosine(embeddings[0], embeddings[2])\n",
    "\n",
    "print(similarity)"
   ]
  }
 ],
 "metadata": {
  "kernelspec": {
   "display_name": "Python 3",
   "language": "python",
   "name": "python3"
  },
  "language_info": {
   "codemirror_mode": {
    "name": "ipython",
    "version": 3
   },
   "file_extension": ".py",
   "mimetype": "text/x-python",
   "name": "python",
   "nbconvert_exporter": "python",
   "pygments_lexer": "ipython3",
   "version": "3.10.12"
  }
 },
 "nbformat": 4,
 "nbformat_minor": 2
}
